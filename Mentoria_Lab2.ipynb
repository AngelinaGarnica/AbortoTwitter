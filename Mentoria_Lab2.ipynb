{
 "cells": [
  {
   "cell_type": "markdown",
   "metadata": {},
   "source": [
    "# Análisis de Posiciones del aborto en Twitter\n",
    "## Laboratorio 2 <br>\n",
    "<br>\n",
    "Grupo: Aballay, Avedaño, Garnica <br>"
   ]
  },
  {
   "cell_type": "markdown",
   "metadata": {},
   "source": [
    "El práctico comienza con la limpieza de datos, verificando que el dataset cumpla con el checklist del Banco Mundial, luego analiza los principales hashtags y su posición frente a la sanción de la ley. Por último, se realiza un primer intento de clasificación del texto de los tweets en base a la presencia de hashtags y emojis y una nube de palabras con los principales términos incluídos en el cuerpo del tweet."
   ]
  },
  {
   "cell_type": "code",
   "execution_count": 1,
   "metadata": {},
   "outputs": [
    {
     "name": "stderr",
     "output_type": "stream",
     "text": [
      "\n",
      "Attaching package: 'dplyr'\n",
      "\n",
      "The following objects are masked from 'package:stats':\n",
      "\n",
      "    filter, lag\n",
      "\n",
      "The following objects are masked from 'package:base':\n",
      "\n",
      "    intersect, setdiff, setequal, union\n",
      "\n",
      "Registered S3 methods overwritten by 'ggplot2':\n",
      "  method         from \n",
      "  [.quosures     rlang\n",
      "  c.quosures     rlang\n",
      "  print.quosures rlang\n",
      "Loading required package: xml2\n",
      "Registered S3 method overwritten by 'rvest':\n",
      "  method            from\n",
      "  read_xml.response xml2\n",
      "\n",
      "Attaching package: 'data.table'\n",
      "\n",
      "The following objects are masked from 'package:dplyr':\n",
      "\n",
      "    between, first, last\n",
      "\n",
      "Warning message:\n",
      "\"package 'wordcloud' was built under R version 3.6.1\"Warning message:\n",
      "\"package 'tm' was built under R version 3.6.1\"Loading required package: NLP\n",
      "\n",
      "Attaching package: 'NLP'\n",
      "\n",
      "The following object is masked from 'package:ggplot2':\n",
      "\n",
      "    annotate\n",
      "\n"
     ]
    }
   ],
   "source": [
    "library(dplyr)\n",
    "library(tidyr)\n",
    "library(ggplot2)\n",
    "library(knitr)\n",
    "library(stringi)\n",
    "library(rvest)\n",
    "library(stringr)\n",
    "library(utf8)\n",
    "library(RColorBrewer)\n",
    "library(data.table)\n",
    "library(digest)\n",
    "library(wordcloud)\n",
    "library(tm)\n",
    "\n",
    "options(scipen=999)"
   ]
  },
  {
   "cell_type": "code",
   "execution_count": 2,
   "metadata": {},
   "outputs": [],
   "source": [
    "###1- Union de bases de Tweets\n",
    "#Cambiar la ruta del archivo\n",
    "\n",
    "ruta <- \"C:/Users/User02/Google Drive/DiploDatos/Mentoria/\"\n",
    "\n",
    "tweets_junio <- read.csv(paste(ruta, \"tweets_junio.csv\", sep=\"\"), \n",
    "                         encoding = 'UTF-8')\n",
    "\n",
    "tweets_ago <- read.csv(paste(ruta, \"tweets_agosto.csv\", sep =\"\"), \n",
    "                       encoding = 'UTF-8')\n",
    "\n",
    "tweets_junio$base <- \"06_Junio\"\n",
    "tweets_ago$base <- \"08_Agosto\"\n",
    "tweets_ago$posicion <- NA\n",
    "colnames(tweets_ago)[5]<-\"full_text\"\n",
    "\n",
    "tweets <- rbind(tweets_ago, tweets_junio)"
   ]
  },
  {
   "cell_type": "markdown",
   "metadata": {},
   "source": [
    "# 1 - Limpieza de Datos\n",
    "\n",
    "Comprobarmos que el dataset cumpla con el checklist del Banco Mundial:\n",
    "\n",
    "1. Before data cleaning: Importing the data<br>\n",
    "1.1\tCheck for importing issues such as broken lines when importing .csv files<br>\n",
    "1.2\tMake sure you have unique IDs<br>\n",
    "1.3\tDe-identify all data and save in a new .dta file<br>\n",
    "1.4\tNever make any changes to the raw data<br>\n",
    "2. Important steps for data cleaning<br>\n",
    "2.1\tLabel variables, don’t use special characters<br>\n",
    "2.2\tRecode and label missing values: your data set should not have<br>\n",
    "2.3\tEncode variables: all categorical variables should be saved as labeled numeric variables, no strings<br>\n",
    "2.4\tDon’t change variable names from questionnaire, except for nested repeat groups and reshaped roster data<br>\n",
    "2.5\tCheck sample representativeness of age, gender, urban/rural, region and religion<br>\n",
    "2.6\tCheck administrative data such as date, time, interviewer variables included<br>\n",
    "2.7\tTest variables consistency<br>\n",
    "2.8\tIdentify and document outliers<br>\n",
    "2.9\tCompress dataset so it is saved in the most efficient format<br>\n",
    "2.10 Save cleaned data set with an informative name. Avoid saving in a very recent Stata version<br>\n",
    "3. Optional steps in data cleaning<br>\n",
    "3.1\tOrder variables – unique ID always first, then same order as questionnaire<br>\n",
    "3.2\tDrop variables that only make sense for questionnaire review (duration, notes, calculates)<br>\n",
    "3.3\tRename roster variables<br>\n",
    "3.4\tCategorize variables listed as “others”<br>\n",
    "3.5\tAdd metadata as notes: original survey question, relevance, constraints, etc<br>"
   ]
  },
  {
   "cell_type": "markdown",
   "metadata": {},
   "source": [
    "Aplicando cada punto a la base de tweets: <br>\n",
    "1.1\tCheck for importing issues such as broken lines when importing .csv files<br>\n",
    "<br>\n",
    "No se verifican lineas rotas/cortadas, en caso de existir, R avisa con Warnings al momento de la apertura."
   ]
  },
  {
   "cell_type": "code",
   "execution_count": 3,
   "metadata": {},
   "outputs": [
    {
     "data": {
      "text/html": [
       "1162136"
      ],
      "text/latex": [
       "1162136"
      ],
      "text/markdown": [
       "1162136"
      ],
      "text/plain": [
       "[1] 1162136"
      ]
     },
     "metadata": {},
     "output_type": "display_data"
    }
   ],
   "source": [
    "# 1.2\tMake sure you have unique IDs\n",
    "#Elimino duplicados. Verifico cantidad de ids únicos\n",
    "\n",
    "length(unique(tweets$id))"
   ]
  },
  {
   "cell_type": "code",
   "execution_count": 4,
   "metadata": {},
   "outputs": [
    {
     "data": {
      "text/html": [
       "351"
      ],
      "text/latex": [
       "351"
      ],
      "text/markdown": [
       "351"
      ],
      "text/plain": [
       "[1] 351"
      ]
     },
     "metadata": {},
     "output_type": "display_data"
    }
   ],
   "source": [
    "duplicados <- tweets %>%\n",
    "  group_by(id) %>%\n",
    "  mutate(cant = n()) %>%\n",
    "  filter(cant > 1)\n",
    "length(unique(duplicados$id))"
   ]
  },
  {
   "cell_type": "code",
   "execution_count": 5,
   "metadata": {},
   "outputs": [
    {
     "data": {
      "text/html": [
       "1162136"
      ],
      "text/latex": [
       "1162136"
      ],
      "text/markdown": [
       "1162136"
      ],
      "text/plain": [
       "[1] 1162136"
      ]
     },
     "metadata": {},
     "output_type": "display_data"
    }
   ],
   "source": [
    "tweets <- tweets %>%\n",
    "  distinct(id, .keep_all = TRUE)\n",
    "length(unique(tweets$id))"
   ]
  },
  {
   "cell_type": "markdown",
   "metadata": {},
   "source": [
    "Se verfica la existencia de 351 tweets de duplicados por id. Eliminando los casos duplicados la base queda con 1.162.136 tweets distintos.\n",
    "Para el análisis de palabras también se decidió excluir lor retweets. En el práctico 1, se había observado que la variable retweet no identificaba claramente este tipo de mensajes por lo que se decidió identificarlos de acuerdo a si el cuerpo del texto comienza o no con las siglas \"RT\"."
   ]
  },
  {
   "cell_type": "code",
   "execution_count": 6,
   "metadata": {},
   "outputs": [
    {
     "data": {
      "text/plain": [
       "\n",
       "     0      1   <NA> \n",
       "201041 961095      0 "
      ]
     },
     "metadata": {},
     "output_type": "display_data"
    }
   ],
   "source": [
    "#Retweets\n",
    "tweets$full_text <- as.character(tweets$full_text)\n",
    "tweets$rt <- ifelse(substr(tweets$full_text, 1, 2) == \"RT\", 1, 0)\n",
    "table(tweets$rt, useNA = \"always\")\n",
    "\n",
    "#961.095 rt (82,3%)\n",
    "# text_dup <- tweets %>%\n",
    "#   group_by(full_text) %>%\n",
    "#   mutate(cant = n()) %>%\n",
    "#   filter(cant > 1)\n",
    "\n",
    "tweets <- tweets[tweets$rt == 0, ]"
   ]
  },
  {
   "cell_type": "markdown",
   "metadata": {},
   "source": [
    "Existen 961.356 registros identificados como retweet que son eliminados de la base."
   ]
  },
  {
   "cell_type": "code",
   "execution_count": 7,
   "metadata": {},
   "outputs": [],
   "source": [
    "# 1.3\tDe-identify all data and save in a new .dta file\n",
    "# 1.4\tNever make any changes to the raw data\n",
    "save(tweets, file = paste(ruta, \"base_tweets.Rda\", sep=\"\"))"
   ]
  },
  {
   "cell_type": "code",
   "execution_count": 8,
   "metadata": {},
   "outputs": [
    {
     "data": {
      "text/html": [
       "<ol class=list-inline>\n",
       "\t<li>'id'</li>\n",
       "\t<li>'created_at'</li>\n",
       "\t<li>'favorite_count'</li>\n",
       "\t<li>'retweet_count'</li>\n",
       "\t<li>'full_text'</li>\n",
       "\t<li>'favorited'</li>\n",
       "\t<li>'retweeted'</li>\n",
       "\t<li>'user_name'</li>\n",
       "\t<li>'user_id'</li>\n",
       "\t<li>'original_id'</li>\n",
       "\t<li>'base'</li>\n",
       "\t<li>'posicion'</li>\n",
       "\t<li>'rt'</li>\n",
       "</ol>\n"
      ],
      "text/latex": [
       "\\begin{enumerate*}\n",
       "\\item 'id'\n",
       "\\item 'created\\_at'\n",
       "\\item 'favorite\\_count'\n",
       "\\item 'retweet\\_count'\n",
       "\\item 'full\\_text'\n",
       "\\item 'favorited'\n",
       "\\item 'retweeted'\n",
       "\\item 'user\\_name'\n",
       "\\item 'user\\_id'\n",
       "\\item 'original\\_id'\n",
       "\\item 'base'\n",
       "\\item 'posicion'\n",
       "\\item 'rt'\n",
       "\\end{enumerate*}\n"
      ],
      "text/markdown": [
       "1. 'id'\n",
       "2. 'created_at'\n",
       "3. 'favorite_count'\n",
       "4. 'retweet_count'\n",
       "5. 'full_text'\n",
       "6. 'favorited'\n",
       "7. 'retweeted'\n",
       "8. 'user_name'\n",
       "9. 'user_id'\n",
       "10. 'original_id'\n",
       "11. 'base'\n",
       "12. 'posicion'\n",
       "13. 'rt'\n",
       "\n",
       "\n"
      ],
      "text/plain": [
       " [1] \"id\"             \"created_at\"     \"favorite_count\" \"retweet_count\" \n",
       " [5] \"full_text\"      \"favorited\"      \"retweeted\"      \"user_name\"     \n",
       " [9] \"user_id\"        \"original_id\"    \"base\"           \"posicion\"      \n",
       "[13] \"rt\"            "
      ]
     },
     "metadata": {},
     "output_type": "display_data"
    },
    {
     "data": {
      "text/html": [
       "<table>\n",
       "<thead><tr><th></th><th scope=col>id</th><th scope=col>created_at</th><th scope=col>favorite_count</th><th scope=col>retweet_count</th><th scope=col>full_text</th><th scope=col>favorited</th><th scope=col>retweeted</th><th scope=col>user_name</th><th scope=col>user_id</th><th scope=col>original_id</th><th scope=col>base</th><th scope=col>posicion</th><th scope=col>rt</th></tr></thead>\n",
       "<tbody>\n",
       "\t<tr><th scope=row>1</th><td>1025181421961392128                                                                                                                                                                       </td><td>Fri Aug 03 00:47:52 +0000 2018                                                                                                                                                            </td><td>0                                                                                                                                                                                         </td><td>0                                                                                                                                                                                         </td><td><span style=white-space:pre-wrap>&lt;U+0001F539&gt; 5 Mitos sobre el aborto que todos debemos saber [VÍDEO] https://t.co/QVLOyPu7tu                                                </span></td><td>False                                                                                                                                                                                     </td><td>False                                                                                                                                                                                     </td><td><span style=white-space:pre-wrap>Revista Digital                          </span>                                                                                                         </td><td><span style=white-space:pre-wrap>         2208347839</span>                                                                                                                               </td><td>1025181421961392128                                                                                                                                                                       </td><td>08_Agosto                                                                                                                                                                                 </td><td>NA                                                                                                                                                                                        </td><td>0                                                                                                                                                                                         </td></tr>\n",
       "\t<tr><th scope=row>3</th><td>1025181423639113728                                                                                                                                                                 </td><td>Fri Aug 03 00:47:53 +0000 2018                                                                                                                                                      </td><td>0                                                                                                                                                                                   </td><td>0                                                                                                                                                                                   </td><td><span style=white-space:pre-wrap>El aborto que se perdió tu vieja jajajajajajajajajajjajajajaja                                                                              </span></td><td>False                                                                                                                                                                               </td><td>False                                                                                                                                                                               </td><td><span style=white-space:pre-wrap>Delfina&lt;U+0001F49A&gt;                      </span>                                                                                             </td><td> 984930721373573120                                                                                                                                                                 </td><td>1025181423639113728                                                                                                                                                                 </td><td>08_Agosto                                                                                                                                                                           </td><td>NA                                                                                                                                                                                  </td><td>0                                                                                                                                                                                   </td></tr>\n",
       "\t<tr><th scope=row>9</th><td>1025181430807257088                                                                                                                                                                 </td><td>Fri Aug 03 00:47:54 +0000 2018                                                                                                                                                      </td><td>0                                                                                                                                                                                   </td><td>0                                                                                                                                                                                   </td><td><span style=white-space:pre-wrap>Ahre lxs \"provida\" dicen \"cuidemos las dos vidas\" y se la pasan agrediendo                                                                  </span></td><td>False                                                                                                                                                                               </td><td>False                                                                                                                                                                               </td><td><span style=white-space:pre-wrap>Mmeli&lt;U+0001F4B8&gt;                        </span>                                                                                             </td><td> 930515694281809920                                                                                                                                                                 </td><td>1025181430807257088                                                                                                                                                                 </td><td>08_Agosto                                                                                                                                                                           </td><td>NA                                                                                                                                                                                  </td><td>0                                                                                                                                                                                   </td></tr>\n",
       "\t<tr><th scope=row>14</th><td>1025181440240173056                                                                                                                                                                 </td><td>Fri Aug 03 00:47:56 +0000 2018                                                                                                                                                      </td><td>0                                                                                                                                                                                   </td><td>0                                                                                                                                                                                   </td><td><span style=white-space:pre-wrap>Menos mal q se dice ateo                                                                                                                    </span></td><td>False                                                                                                                                                                               </td><td>False                                                                                                                                                                               </td><td>L U &lt;U+0001F1E6&gt;&lt;U+0001F1F7&gt; &lt;U+0001F339&gt;                                                                                                                         </td><td><span style=white-space:pre-wrap>         2290409972</span>                                                                                                                         </td><td>1025181440240173056                                                                                                                                                                 </td><td>08_Agosto                                                                                                                                                                           </td><td>NA                                                                                                                                                                                  </td><td>0                                                                                                                                                                                   </td></tr>\n",
       "\t<tr><th scope=row>26</th><td>1025181466093920256                                                                                                                         </td><td>Fri Aug 03 00:48:03 +0000 2018                                                                                                              </td><td>0                                                                                                                                           </td><td>0                                                                                                                                           </td><td>Lista de argumentos de Amalia Granata en contra de la legalización del aborto: -Es un ser humano -Es un bebé -Vas a… https://t.co/z0skBhmGiH</td><td>False                                                                                                                                       </td><td>False                                                                                                                                       </td><td>Tomi                                                                                                                                        </td><td>1015076557956710400                                                                                                                         </td><td>1025181466093920256                                                                                                                         </td><td>08_Agosto                                                                                                                                   </td><td>NA                                                                                                                                          </td><td>0                                                                                                                                           </td></tr>\n",
       "\t<tr><th scope=row>27</th><td>1025181466408505344                                                                                                                         </td><td>Fri Aug 03 00:48:03 +0000 2018                                                                                                              </td><td>0                                                                                                                                           </td><td>0                                                                                                                                           </td><td>@RomeroxSalta Gracias Senador!! Argentina se lo agradece! #SalvemosLasDosVidas  #RechazoTotalYa                                             </td><td>False                                                                                                                                       </td><td>False                                                                                                                                       </td><td>Mariana Sosa                                                                                                                                </td><td>1011013119970304000                                                                                                                         </td><td>1025181466408505344                                                                                                                         </td><td>08_Agosto                                                                                                                                   </td><td>NA                                                                                                                                          </td><td>0                                                                                                                                           </td></tr>\n",
       "</tbody>\n",
       "</table>\n"
      ],
      "text/latex": [
       "\\begin{tabular}{r|lllllllllllll}\n",
       "  & id & created\\_at & favorite\\_count & retweet\\_count & full\\_text & favorited & retweeted & user\\_name & user\\_id & original\\_id & base & posicion & rt\\\\\n",
       "\\hline\n",
       "\t1 & 1025181421961392128                                                                                                                              & Fri Aug 03 00:47:52 +0000 2018                                                                                                                   & 0                                                                                                                                                & 0                                                                                                                                                & <U+0001F539> 5 Mitos sobre el aborto que todos debemos saber {[}VÍDEO{]} https://t.co/QVLOyPu7tu                                                 & False                                                                                                                                            & False                                                                                                                                            & Revista Digital                                                                                                                                  &          2208347839                                                                                                                              & 1025181421961392128                                                                                                                              & 08\\_Agosto                                                                                                                                      & NA                                                                                                                                               & 0                                                                                                                                               \\\\\n",
       "\t3 & 1025181423639113728                                                                                                                          & Fri Aug 03 00:47:53 +0000 2018                                                                                                               & 0                                                                                                                                            & 0                                                                                                                                            & El aborto que se perdió tu vieja jajajajajajajajajajjajajajaja                                                                               & False                                                                                                                                        & False                                                                                                                                        & Delfina<U+0001F49A>                                                                                                                          &  984930721373573120                                                                                                                          & 1025181423639113728                                                                                                                          & 08\\_Agosto                                                                                                                                  & NA                                                                                                                                           & 0                                                                                                                                           \\\\\n",
       "\t9 & 1025181430807257088                                                                                                                          & Fri Aug 03 00:47:54 +0000 2018                                                                                                               & 0                                                                                                                                            & 0                                                                                                                                            & Ahre lxs \"provida\" dicen \"cuidemos las dos vidas\" y se la pasan agrediendo                                                                   & False                                                                                                                                        & False                                                                                                                                        & Mmeli<U+0001F4B8>                                                                                                                            &  930515694281809920                                                                                                                          & 1025181430807257088                                                                                                                          & 08\\_Agosto                                                                                                                                  & NA                                                                                                                                           & 0                                                                                                                                           \\\\\n",
       "\t14 & 1025181440240173056                                                                                                                          & Fri Aug 03 00:47:56 +0000 2018                                                                                                               & 0                                                                                                                                            & 0                                                                                                                                            & Menos mal q se dice ateo                                                                                                                     & False                                                                                                                                        & False                                                                                                                                        & L U <U+0001F1E6><U+0001F1F7> <U+0001F339>                                                                                                    &          2290409972                                                                                                                          & 1025181440240173056                                                                                                                          & 08\\_Agosto                                                                                                                                  & NA                                                                                                                                           & 0                                                                                                                                           \\\\\n",
       "\t26 & 1025181466093920256                                                                                                                          & Fri Aug 03 00:48:03 +0000 2018                                                                                                               & 0                                                                                                                                            & 0                                                                                                                                            & Lista de argumentos de Amalia Granata en contra de la legalización del aborto: -Es un ser humano -Es un bebé -Vas a… https://t.co/z0skBhmGiH & False                                                                                                                                        & False                                                                                                                                        & Tomi                                                                                                                                         & 1015076557956710400                                                                                                                          & 1025181466093920256                                                                                                                          & 08\\_Agosto                                                                                                                                  & NA                                                                                                                                           & 0                                                                                                                                           \\\\\n",
       "\t27 & 1025181466408505344                                                                                                                              & Fri Aug 03 00:48:03 +0000 2018                                                                                                                   & 0                                                                                                                                                & 0                                                                                                                                                & @RomeroxSalta Gracias Senador!! Argentina se lo agradece! \\#SalvemosLasDosVidas  \\#RechazoTotalYa                                              & False                                                                                                                                            & False                                                                                                                                            & Mariana Sosa                                                                                                                                     & 1011013119970304000                                                                                                                              & 1025181466408505344                                                                                                                              & 08\\_Agosto                                                                                                                                      & NA                                                                                                                                               & 0                                                                                                                                               \\\\\n",
       "\\end{tabular}\n"
      ],
      "text/markdown": [
       "\n",
       "| <!--/--> | id | created_at | favorite_count | retweet_count | full_text | favorited | retweeted | user_name | user_id | original_id | base | posicion | rt |\n",
       "|---|---|---|---|---|---|---|---|---|---|---|---|---|---|\n",
       "| 1 | 1025181421961392128                                                                                                                          | Fri Aug 03 00:47:52 +0000 2018                                                                                                               | 0                                                                                                                                            | 0                                                                                                                                            | <U+0001F539> 5 Mitos sobre el aborto que todos debemos saber [VÍDEO] https://t.co/QVLOyPu7tu                                                 | False                                                                                                                                        | False                                                                                                                                        | Revista Digital                                                                                                                              |          2208347839                                                                                                                          | 1025181421961392128                                                                                                                          | 08_Agosto                                                                                                                                    | NA                                                                                                                                           | 0                                                                                                                                            |\n",
       "| 3 | 1025181423639113728                                                                                                                          | Fri Aug 03 00:47:53 +0000 2018                                                                                                               | 0                                                                                                                                            | 0                                                                                                                                            | El aborto que se perdió tu vieja jajajajajajajajajajjajajajaja                                                                               | False                                                                                                                                        | False                                                                                                                                        | Delfina<U+0001F49A>                                                                                                                          |  984930721373573120                                                                                                                          | 1025181423639113728                                                                                                                          | 08_Agosto                                                                                                                                    | NA                                                                                                                                           | 0                                                                                                                                            |\n",
       "| 9 | 1025181430807257088                                                                                                                          | Fri Aug 03 00:47:54 +0000 2018                                                                                                               | 0                                                                                                                                            | 0                                                                                                                                            | Ahre lxs \"provida\" dicen \"cuidemos las dos vidas\" y se la pasan agrediendo                                                                   | False                                                                                                                                        | False                                                                                                                                        | Mmeli<U+0001F4B8>                                                                                                                            |  930515694281809920                                                                                                                          | 1025181430807257088                                                                                                                          | 08_Agosto                                                                                                                                    | NA                                                                                                                                           | 0                                                                                                                                            |\n",
       "| 14 | 1025181440240173056                                                                                                                          | Fri Aug 03 00:47:56 +0000 2018                                                                                                               | 0                                                                                                                                            | 0                                                                                                                                            | Menos mal q se dice ateo                                                                                                                     | False                                                                                                                                        | False                                                                                                                                        | L U <U+0001F1E6><U+0001F1F7> <U+0001F339>                                                                                                    |          2290409972                                                                                                                          | 1025181440240173056                                                                                                                          | 08_Agosto                                                                                                                                    | NA                                                                                                                                           | 0                                                                                                                                            |\n",
       "| 26 | 1025181466093920256                                                                                                                          | Fri Aug 03 00:48:03 +0000 2018                                                                                                               | 0                                                                                                                                            | 0                                                                                                                                            | Lista de argumentos de Amalia Granata en contra de la legalización del aborto: -Es un ser humano -Es un bebé -Vas a… https://t.co/z0skBhmGiH | False                                                                                                                                        | False                                                                                                                                        | Tomi                                                                                                                                         | 1015076557956710400                                                                                                                          | 1025181466093920256                                                                                                                          | 08_Agosto                                                                                                                                    | NA                                                                                                                                           | 0                                                                                                                                            |\n",
       "| 27 | 1025181466408505344                                                                                                                          | Fri Aug 03 00:48:03 +0000 2018                                                                                                               | 0                                                                                                                                            | 0                                                                                                                                            | @RomeroxSalta Gracias Senador!! Argentina se lo agradece! #SalvemosLasDosVidas  #RechazoTotalYa                                              | False                                                                                                                                        | False                                                                                                                                        | Mariana Sosa                                                                                                                                 | 1011013119970304000                                                                                                                          | 1025181466408505344                                                                                                                          | 08_Agosto                                                                                                                                    | NA                                                                                                                                           | 0                                                                                                                                            |\n",
       "\n"
      ],
      "text/plain": [
       "   id                  created_at                     favorite_count\n",
       "1  1025181421961392128 Fri Aug 03 00:47:52 +0000 2018 0             \n",
       "3  1025181423639113728 Fri Aug 03 00:47:53 +0000 2018 0             \n",
       "9  1025181430807257088 Fri Aug 03 00:47:54 +0000 2018 0             \n",
       "14 1025181440240173056 Fri Aug 03 00:47:56 +0000 2018 0             \n",
       "26 1025181466093920256 Fri Aug 03 00:48:03 +0000 2018 0             \n",
       "27 1025181466408505344 Fri Aug 03 00:48:03 +0000 2018 0             \n",
       "   retweet_count\n",
       "1  0            \n",
       "3  0            \n",
       "9  0            \n",
       "14 0            \n",
       "26 0            \n",
       "27 0            \n",
       "   full_text                                                                                                                                   \n",
       "1  <U+0001F539> 5 Mitos sobre el aborto que todos debemos saber [VÍDEO] https://t.co/QVLOyPu7tu                                                \n",
       "3  El aborto que se perdió tu vieja jajajajajajajajajajjajajajaja                                                                              \n",
       "9  Ahre lxs \"provida\" dicen \"cuidemos las dos vidas\" y se la pasan agrediendo                                                                  \n",
       "14 Menos mal q se dice ateo                                                                                                                    \n",
       "26 Lista de argumentos de Amalia Granata en contra de la legalización del aborto: -Es un ser humano -Es un bebé -Vas a… https://t.co/z0skBhmGiH\n",
       "27 @RomeroxSalta Gracias Senador!! Argentina se lo agradece! #SalvemosLasDosVidas  #RechazoTotalYa                                             \n",
       "   favorited retweeted user_name                                \n",
       "1  False     False     Revista Digital                          \n",
       "3  False     False     Delfina<U+0001F49A>                      \n",
       "9  False     False     Mmeli<U+0001F4B8>                        \n",
       "14 False     False     L U <U+0001F1E6><U+0001F1F7> <U+0001F339>\n",
       "26 False     False     Tomi                                     \n",
       "27 False     False     Mariana Sosa                             \n",
       "   user_id             original_id         base      posicion rt\n",
       "1           2208347839 1025181421961392128 08_Agosto NA       0 \n",
       "3   984930721373573120 1025181423639113728 08_Agosto NA       0 \n",
       "9   930515694281809920 1025181430807257088 08_Agosto NA       0 \n",
       "14          2290409972 1025181440240173056 08_Agosto NA       0 \n",
       "26 1015076557956710400 1025181466093920256 08_Agosto NA       0 \n",
       "27 1011013119970304000 1025181466408505344 08_Agosto NA       0 "
      ]
     },
     "metadata": {},
     "output_type": "display_data"
    }
   ],
   "source": [
    "# 2.1\tLabel variables, don’t use special characters\n",
    "colnames(tweets)\n",
    "head(tweets)"
   ]
  },
  {
   "cell_type": "code",
   "execution_count": 9,
   "metadata": {},
   "outputs": [
    {
     "data": {
      "text/plain": [
       "       id                      favorite_count     retweet_count      \n",
       " Min.   :1004513269960000000   Min.   :    0.00   Min.   :    0.000  \n",
       " 1st Qu.:1006334464880000000   1st Qu.:    0.00   1st Qu.:    0.000  \n",
       " Median :1006927233860000000   Median :    1.00   Median :    0.000  \n",
       " Mean   :1009214630600000000   Mean   :   11.03   Mean   :    3.984  \n",
       " 3rd Qu.:1007304364360000000   3rd Qu.:    3.00   3rd Qu.:    1.000  \n",
       " Max.   :1025420281740000000   Max.   :51902.00   Max.   :25144.000  \n",
       " favorited      retweeted         user_id                   \n",
       " False:201041   False:201041   Min.   :             719413  \n",
       "                               1st Qu.:          205313045  \n",
       "                               Median :          884132780  \n",
       "                               Mean   : 205974395844000000  \n",
       "                               3rd Qu.:         4164997133  \n",
       "                               Max.   :1025411441240000000  \n",
       "  original_id                 \n",
       " Min.   :1004513269960000000  \n",
       " 1st Qu.:1006334464880000000  \n",
       " Median :1006927233860000000  \n",
       " Mean   :1009214630600000000  \n",
       " 3rd Qu.:1007304364360000000  \n",
       " Max.   :1025420281740000000  "
      ]
     },
     "metadata": {},
     "output_type": "display_data"
    }
   ],
   "source": [
    "# 2.2\tRecode and label missing values: your data set should not have \n",
    "#observations with -777, -88 or -9 values, for example\n",
    "summary(tweets[, c(1,3,4,6,7,9,10)])\n",
    "\n",
    "#No se verifican valores negativos, ni valores faltantes"
   ]
  },
  {
   "cell_type": "code",
   "execution_count": 10,
   "metadata": {},
   "outputs": [
    {
     "name": "stdout",
     "output_type": "stream",
     "text": [
      "'data.frame':\t201041 obs. of  13 variables:\n",
      " $ id            : num  1025181421961392128 1025181423639113728 1025181430807257088 1025181440240173056 1025181466093920256 ...\n",
      " $ created_at    : Factor w/ 489099 levels \"Fri Aug 03 00:47:52 +0000 2018\",..: 1 2 3 5 11 11 12 14 21 21 ...\n",
      " $ favorite_count: int  0 0 0 0 0 0 0 0 0 0 ...\n",
      " $ retweet_count : int  0 0 0 0 0 0 0 0 0 0 ...\n",
      " $ full_text     : chr  \"<U+0001F539> 5 Mitos sobre el aborto que todos debemos saber [VÍDEO] https://t.co/QVLOyPu7tu\" \"El aborto que se perdió tu vieja jajajajajajajajajajjajajajaja\" \"Ahre lxs \\\"provida\\\" dicen \\\"cuidemos las dos vidas\\\" y se la pasan agrediendo\" \"Menos mal q se dice ateo\" ...\n",
      " $ favorited     : Factor w/ 1 level \"False\": 1 1 1 1 1 1 1 1 1 1 ...\n",
      " $ retweeted     : Factor w/ 1 level \"False\": 1 1 1 1 1 1 1 1 1 1 ...\n",
      " $ user_name     : Factor w/ 300553 levels \"\",\"'\",\"'' Gonzaa ''\",..: 53359 20044 45823 35042 59600 42068 39761 11075 37546 14427 ...\n",
      " $ user_id       : num  2208347839 984930721373573120 930515694281809920 2290409972 1015076557956710400 ...\n",
      " $ original_id   : num  1025181421961392128 1025181423639113728 1025181430807257088 1025181440240173056 1025181466093920256 ...\n",
      " $ base          : chr  \"08_Agosto\" \"08_Agosto\" \"08_Agosto\" \"08_Agosto\" ...\n",
      " $ posicion      : chr  NA NA NA NA ...\n",
      " $ rt            : num  0 0 0 0 0 0 0 0 0 0 ...\n"
     ]
    }
   ],
   "source": [
    "# 2.3\tEncode variables: all categorical variables should be saved as labeled numeric variables, no strings\n",
    "str(tweets)"
   ]
  },
  {
   "cell_type": "markdown",
   "metadata": {},
   "source": [
    "se verifica que no se reconocieron correctamente los tipos de las siguientes variables:<br>\n",
    "created_at<br>\n",
    "favorited<br>\n",
    "retweeted<br>"
   ]
  },
  {
   "cell_type": "code",
   "execution_count": 11,
   "metadata": {},
   "outputs": [
    {
     "data": {
      "text/html": [
       "'English_United States.1252'"
      ],
      "text/latex": [
       "'English\\_United States.1252'"
      ],
      "text/markdown": [
       "'English_United States.1252'"
      ],
      "text/plain": [
       "[1] \"English_United States.1252\""
      ]
     },
     "metadata": {},
     "output_type": "display_data"
    }
   ],
   "source": [
    "#Fecha\n",
    "tweets$created_at <- as.character(tweets$created_at)\n",
    "Sys.setlocale(\"LC_TIME\", \"English\")\n",
    "tweets$fecha <- as.POSIXct(tweets$created_at, format=\"%a %b %d %H:%M:%S +0000 %Y\", tz=\"GMT\")\n",
    "\n",
    "#Numéricas\n",
    "tweets$favorited <- as.numeric(tweets$favorited)\n",
    "tweets$retweeted <- as.numeric(tweets$retweeted)\n",
    "tweets$user_name <- as.character(tweets$user_name)"
   ]
  },
  {
   "cell_type": "code",
   "execution_count": 12,
   "metadata": {},
   "outputs": [
    {
     "data": {
      "text/plain": [
       "                 Min.               1st Qu.                Median \n",
       "\"2018-06-07 00:00:01\" \"2018-06-12 00:36:47\" \"2018-06-13 15:52:15\" \n",
       "                 Mean               3rd Qu.                  Max. \n",
       "\"2018-06-19 23:21:32\" \"2018-06-14 16:50:49\" \"2018-08-03 16:37:01\" "
      ]
     },
     "metadata": {},
     "output_type": "display_data"
    }
   ],
   "source": [
    "# 2.4\tDon’t change variable names from questionnaire, except for nested repeat groups and reshaped roster data\n",
    "#No aplica\n",
    "# 2.5\tCheck sample representativeness of age, gender, urban/rural, region and religion\n",
    "#No aplica\n",
    "# 2.6\tCheck administrative data such as date, time, interviewer variables included\n",
    "summary(tweets$fecha)"
   ]
  },
  {
   "cell_type": "markdown",
   "metadata": {},
   "source": [
    "La variable fecha ha quedado correctamente epecificada, sin valores vacíos o nulos y con los valores minimos y máximos correctos de acuerdo a las fechas de extracción de las bases."
   ]
  },
  {
   "cell_type": "code",
   "execution_count": 13,
   "metadata": {},
   "outputs": [],
   "source": [
    "# 2.7\tTest variables consistency\n",
    "# 2.8\tIdentify and document outliers\n",
    "# 2.9\tCompress dataset so it is saved in the most efficient format\n",
    "# 2.10\tSave cleaned data set with an informative name. Avoid saving in a very recent Stata version\n",
    "save(tweets, file = \"C:/Mentoria/AbortoTwitter/base_tweets.Rda\")"
   ]
  },
  {
   "cell_type": "code",
   "execution_count": 14,
   "metadata": {},
   "outputs": [],
   "source": [
    "# 3. Optional steps in data cleaning\n",
    "# 3.1\tOrder variables – unique ID always first, then same order as questionnaire\n",
    "# 3.2\tDrop variables that only make sense for questionnaire review (duration, notes, calculates)\n",
    "# 3.3\tRename roster variables\n",
    "# 3.4\tCategorize variables listed as “others”\n",
    "# 3.5\tAdd metadata as notes: original survey question, relevance, constraints, etc"
   ]
  },
  {
   "cell_type": "markdown",
   "metadata": {},
   "source": [
    "# 2 - Extracción de Hashtags\n",
    "\n",
    "Se extraen todos los hashtags de los cuerpos de texto, luego se analizan los más usados y se los clasifica de acuerdo a si se encuentran a favor o no de la ley de interrupción voluntaria del embarazo."
   ]
  },
  {
   "cell_type": "code",
   "execution_count": 15,
   "metadata": {},
   "outputs": [],
   "source": [
    "extrae.hash = function(vec){\n",
    "  hash.pattern = \"#[[:alnum:]]+\"\n",
    "  have.hash = grep(x = vec, pattern = hash.pattern)\n",
    "  hash.matches = gregexpr(pattern = hash.pattern, text = vec[have.hash])\n",
    "  extracted.hash = regmatches(x = vec[have.hash], m = hash.matches)\n",
    "  df = data.frame(table(tolower(unlist(extracted.hash))))\n",
    "  colnames(df) = c(\"tag\",\"freq\")\n",
    "  df = df[order(df$freq,decreasing = TRUE),]\n",
    "  return(df)\n",
    "}\n",
    "\n",
    "hash <- extrae.hash(tweets$full_text)\n",
    "\n",
    "hashtags <- as.data.frame(str_extract_all(tweets$full_text, \"#\\\\S+\", simplify = T))"
   ]
  },
  {
   "cell_type": "code",
   "execution_count": 16,
   "metadata": {},
   "outputs": [
    {
     "data": {
      "text/plain": [
       "\n",
       "    0     1     2  <NA> \n",
       "19671     9     8     0 "
      ]
     },
     "metadata": {},
     "output_type": "display_data"
    }
   ],
   "source": [
    "#Se define la posición del hash:\n",
    "#1-A favor de la Ley\n",
    "#2-En contra de la Ley\n",
    "\n",
    "hash$tag <- as.character(hash$tag)\n",
    "hash$tag <- trimws(hash$tag, \"both\")\n",
    "#hash$tag <- paste(hash$tag, \" \", sep = \"\")\n",
    "\n",
    "hash$pos[hash$tag == \"#abortolegalya\"] <- 1\n",
    "hash$pos[hash$tag == \"#abortolegal\"] <- 1\n",
    "hash$pos[hash$tag == \"#salvemoslas2vidas\"] <- 2\n",
    "hash$pos[hash$tag == \"#noalabortoenargentina\"] <- 2\n",
    "hash$pos[hash$tag == \"#quesealey\"] <- 1\n",
    "hash$pos[hash$tag == \"#argentinaesprovida\"] <- 2\n",
    "hash$pos[hash$tag == \"#noalaborto\"] <- 2\n",
    "hash$pos[hash$tag == \"#queelabortosealey\"] <- 1\n",
    "hash$pos[hash$tag == \"#abortosesionhistorica\"] <- 0\n",
    "hash$pos[hash$tag == \"#abortoseraley\"] <- 1\n",
    "hash$pos[hash$tag == \"#abortolegaloclandestino\"] <- 0\n",
    "hash$pos[hash$tag == \"#salvemoslasdosvidas\"] <- 2\n",
    "hash$pos[hash$tag == \"#activaelcongreso\"] <- 0\n",
    "hash$pos[hash$tag == \"#sialavida\"] <- 2\n",
    "hash$pos[hash$tag == \"#elijamoslas2vidas\"] <- 2\n",
    "hash$pos[hash$tag == \"#yovotoabortolegal\"] <- 1\n",
    "hash$pos[hash$tag == \"abortolegalya\"] <- 1\n",
    "hash$pos[hash$tag == \"#novotencontralasmujeres\"] <- 0\n",
    "\n",
    "hash$pos[is.na(hash$pos) == T] <- 0\n",
    "\n",
    "table(hash$pos, useNA = \"always\")\n"
   ]
  },
  {
   "cell_type": "markdown",
   "metadata": {},
   "source": [
    "Se realiza una nube de palabras con los 25 hashtags más usados, representando con color verde aquellos que se encuentran a favor de la ley, y con celeste los que se encuentran en su contra. Los hashtags en gris no han sido valorados, ya sea porque su frecuencia no es tan alta o porque de su lectura no se identifica posición en relación a la ley."
   ]
  },
  {
   "cell_type": "code",
   "execution_count": 26,
   "metadata": {},
   "outputs": [
    {
     "data": {
      "text/plain": [
       "\n",
       "chartreuse4       cyan4    darkgray \n",
       "          7           7           4 "
      ]
     },
     "metadata": {},
     "output_type": "display_data"
    },
    {
     "ename": "ERROR",
     "evalue": "Error in png(tf, width, height, \"in\", pointsize, bg, res, antialias = antialias): unable to start png() device\n",
     "output_type": "error",
     "traceback": [
      "Error in png(tf, width, height, \"in\", pointsize, bg, res, antialias = antialias): unable to start png() device\nTraceback:\n"
     ]
    },
    {
     "data": {
      "text/plain": [
       "plot without title"
      ]
     },
     "metadata": {},
     "output_type": "display_data"
    }
   ],
   "source": [
    "##NUBE DE HASH\n",
    "hash$color[hash$pos == 1] <- \"chartreuse4\"\n",
    "hash$color[hash$pos == 2] <- \"cyan4\"\n",
    "hash$color[hash$pos == 0] <- \"darkgray\"\n",
    "table(hash$color)\n",
    "color <- hash$color\n",
    "\n",
    "wordcloud(words = hash$tag,\n",
    "          freq = hash$freq,\n",
    "          scale = c(3,0.6),\n",
    "          max.words = 25,\n",
    "          colors = hash$color,\n",
    "          ordered.colors = TRUE)"
   ]
  },
  {
   "cell_type": "markdown",
   "metadata": {},
   "source": [
    "# 3 - Identificación de la posición del tweet frente a la sanción de la ley\n",
    "\n",
    "Se busca identificar la posición del texto del tweet en función de la existencia de hashtags valorados en el punto anterior como a favor o en contra de la ley. En el análisis exploratorio se verificó que por un lado existen tweets que no contienen los hashtags más usados y por otro que también existen tweets con más de un hashtags de diferentes posiciones.\n",
    "\n",
    "Se define dejar aquellos hashtags que representan más de un 1% del total de los hashtags identificados."
   ]
  },
  {
   "cell_type": "code",
   "execution_count": 19,
   "metadata": {},
   "outputs": [
    {
     "data": {
      "text/plain": [
       "    \n",
       "         0     1     2     3     4     5     6     7     8     9    10    20\n",
       "  0  28887 32842 12595  2666   443    79    26     8    12     5    15     1\n",
       "  1  92331  2020   369    71    30     2     1     0     0     0     0     0\n",
       "  2  24132   295    71    15     3     0     0     0     0     0     0     0\n",
       "  3   3306    63    21     2     1     1     0     0     0     0     0     0\n",
       "  4    526    18     7     1     0     0     0     0     0     0     0     0\n",
       "  5    113     3     0     0     0     0     0     0     0     0     0     0\n",
       "  6     44     0     0     0     0     0     0     0     0     0     0     0\n",
       "  7      9     0     0     0     0     0     0     0     0     0     0     0\n",
       "  8      2     0     0     0     0     0     0     0     0     0     0     0\n",
       "  9      2     0     0     0     0     0     0     0     0     0     0     0\n",
       "  15     1     0     0     0     0     0     0     0     0     0     0     0\n",
       "  16     1     0     0     0     0     0     0     0     0     0     0     0\n",
       "  18     1     0     0     0     0     0     0     0     0     0     0     0"
      ]
     },
     "metadata": {},
     "output_type": "display_data"
    }
   ],
   "source": [
    "#Hash valorados dentro del texto.\n",
    "\n",
    "hash$porc <- hash$freq/sum(hash$freq)*100\n",
    "hash <- hash[hash$porc > 1, ]\n",
    "\n",
    "v1 <- hash$tag[hash$pos == 1 & is.na(hash$pos) != T]\n",
    "pattern_1 <- paste(v1, collapse = \"|\")\n",
    "\n",
    "v2 <- hash$tag[hash$pos == 2 & is.na(hash$pos) != T]\n",
    "pattern_2 <- paste(v2, collapse = \"|\")\n",
    "\n",
    "tweets$hash_1 <- str_count(tweets$full_text, \n",
    "                                regex(pattern_1, ignore_case = TRUE, dotall = TRUE))\n",
    "\n",
    "tweets$hash_2 <- str_count(tweets$full_text, \n",
    "                                regex(pattern_2, ignore_case = TRUE, dotall = TRUE))\n",
    "\n",
    "table(tweets$hash_1, tweets$hash_2)"
   ]
  },
  {
   "cell_type": "markdown",
   "metadata": {},
   "source": [
    "Como se mencionó previamente se verifican casos con la presencia de más du un hash de diferente posición. Como una primera aproximación a la valoración del tweet, se lo valora de acuerdo a el conteo máximo entre cada una de las posiciones. Es decir que si, por ejemplo, el tweet presenta dos hash valorados \"en contra de la ley\" y uno \"a favor\" de la misma se lo valora como en contra, en caso de empate el mismo queda sin identificar."
   ]
  },
  {
   "cell_type": "code",
   "execution_count": 20,
   "metadata": {},
   "outputs": [
    {
     "data": {
      "text/plain": [
       "\n",
       "     0      1      2   <NA> \n",
       " 30980 120876  49185      0 "
      ]
     },
     "metadata": {},
     "output_type": "display_data"
    },
    {
     "data": {
      "text/plain": [
       "      \n",
       "            0      1      2   <NA>\n",
       "  no     1943    202  48138      0\n",
       "  si     3213 119368    292      0\n",
       "  <NA>  25824   1306    755      0"
      ]
     },
     "metadata": {},
     "output_type": "display_data"
    }
   ],
   "source": [
    "tweets$posicion_1 <- ifelse(tweets$hash_1 > tweets$hash_2, 1, \n",
    "                            ifelse(tweets$hash_1 < tweets$hash_2, 2, 0))\n",
    "\n",
    "table(tweets$posicion_1, useNA = \"always\")\n",
    "\n",
    "table(tweets$posicion, tweets$posicion_1, useNA = \"always\")"
   ]
  },
  {
   "cell_type": "markdown",
   "metadata": {},
   "source": [
    "Se observan diferencias entre la voloración existente en la base y la asignada de acuerdo la valoración de los hashtags. Adicionalmente se verifica la existencia de casos sin valorar. <br>\n",
    "En el análisis exploratorio, se observó que muchos de los usuarios presentaban su posición mediante emojis en la descripción del nombre o del cuerpo del tweet. Las posociones estaban fuertemente marcadas con corazones verdes para aquellos que se encontraban a favor de la sanción de la ley y corazones celestes para aquellos en contra, motivo pr el cual se buscó identificar estos patrones."
   ]
  },
  {
   "cell_type": "code",
   "execution_count": 21,
   "metadata": {},
   "outputs": [],
   "source": [
    "##Corazones en cuerpo del tweet y en usuario\n",
    "# \\U0001f49a #verde\n",
    "# \\U0001f499 #celeste\n",
    "\n",
    "tweets$emoji_1 <- str_count(tweets$full_text, \n",
    "                           regex('\\U0001f49a', ignore_case = TRUE, dotall = TRUE))\n",
    "\n",
    "tweets$emoji_2 <- str_count(tweets$full_text, \n",
    "                            regex('\\U0001f499', ignore_case = TRUE, dotall = TRUE))\n",
    "\n",
    "tweets$emoji_u_1 <- str_count(tweets$user_name, \n",
    "                            regex('\\U0001f49a', ignore_case = TRUE, dotall = TRUE))\n",
    "\n",
    "tweets$emoji_u_2 <- str_count(tweets$user_name, \n",
    "                            regex('\\U0001f499', ignore_case = TRUE, dotall = TRUE))\n",
    "\n",
    "tweets$em <- ifelse(tweets$emoji_1 + tweets$emoji_u_1 > \n",
    "                      tweets$emoji_2 + tweets$emoji_u_2, 1,\n",
    "                    ifelse(tweets$emoji_1 + tweets$emoji_u_1 < \n",
    "                             tweets$emoji_2 + tweets$emoji_u_2, 2, 0))"
   ]
  },
  {
   "cell_type": "markdown",
   "metadata": {},
   "source": [
    "Al igual que en la identificación a través de los hashtags, se verificaron casos con la presencia de valoraciones distintas, pero en mucho menor medida. La identificación vía emojis pareciera ser más clara."
   ]
  },
  {
   "cell_type": "code",
   "execution_count": 22,
   "metadata": {},
   "outputs": [
    {
     "data": {
      "text/plain": [
       "    \n",
       "          0      1      2      3      4      5      6      8     11     15\n",
       "  0  168916   4211   1055    161     70     25      5      7      3      1\n",
       "  1   21527     37      2      0      0      0      0      0      0      0\n",
       "  2    4142      0      4      0      0      0      0      0      0      0\n",
       "  3     548      2      0      0      0      0      0      0      0      0\n",
       "  4     214      0      0      0      0      0      0      0      0      0\n",
       "  5      41      0      0      0      0      0      0      0      0      0\n",
       "  6      38      0      0      0      0      0      0      0      0      0\n",
       "  7      15      0      0      0      0      0      0      0      0      0\n",
       "  8      15      0      0      0      0      0      0      0      0      0\n",
       "  10      1      0      0      0      0      0      0      0      0      0"
      ]
     },
     "metadata": {},
     "output_type": "display_data"
    },
    {
     "data": {
      "text/plain": [
       "\n",
       "     0      1      2   <NA> \n",
       "145370  48199   7471      1 "
      ]
     },
     "metadata": {},
     "output_type": "display_data"
    }
   ],
   "source": [
    "table(tweets$emoji_u_1, tweets$emoji_u_2)\n",
    "\n",
    "table(tweets$em, useNA = \"always\")"
   ]
  },
  {
   "cell_type": "markdown",
   "metadata": {},
   "source": [
    "En base a la posición identificada por los emojis se dentifica la posición del texto para aquellos casos que no habían sido verifiados con anterioridad, es decir los casos en los que la pocisión se había marcado con \"0\"."
   ]
  },
  {
   "cell_type": "code",
   "execution_count": 23,
   "metadata": {},
   "outputs": [
    {
     "data": {
      "text/plain": [
       "\n",
       "     0      1      2   <NA> \n",
       " 26027 124845  50169      0 "
      ]
     },
     "metadata": {},
     "output_type": "display_data"
    }
   ],
   "source": [
    "tweets$posicion_1 <- ifelse(tweets$posicion_1 == 0 & tweets$em == 1, 1, \n",
    "                            ifelse(tweets$posicion_1 == 0 & tweets$em == 2, 2,\n",
    "                                   tweets$posicion_1))\n",
    "\n",
    "tweets$posicion_1[is.na(tweets$posicion_1)== T] <- 0\n",
    "\n",
    "table(tweets$posicion_1, useNA = \"always\")\n"
   ]
  },
  {
   "cell_type": "markdown",
   "metadata": {},
   "source": [
    "# 4 - Nube de palabras\n",
    "\n",
    "A continuación se analizan las palabras más frecuentes dentro del cuerpo de los tweet."
   ]
  },
  {
   "cell_type": "code",
   "execution_count": 24,
   "metadata": {},
   "outputs": [
    {
     "name": "stderr",
     "output_type": "stream",
     "text": [
      "Warning message in tm_map.SimpleCorpus(myCorpus, content_transformer(tolower)):\n",
      "\"transformation drops documents\"Warning message in tm_map.SimpleCorpus(myCorpus, removePunctuation):\n",
      "\"transformation drops documents\"Warning message in tm_map.SimpleCorpus(myCorpus, removeNumbers):\n",
      "\"transformation drops documents\"Warning message in tm_map.SimpleCorpus(myCorpus, removeWords, stopwords(\"spanish\")):\n",
      "\"transformation drops documents\"Warning message in tm_map.SimpleCorpus(myCorpus, function(x) iconv(enc2utf8(x), :\n",
      "\"transformation drops documents\"Warning message in tm_map.SimpleCorpus(myCorpus, content_transformer(removeURL)):\n",
      "\"transformation drops documents\"ERROR while rich displaying an object: Error in nchar(Terms(x), type = \"chars\"): invalid multibyte string, element 5\n",
      "\n",
      "Traceback:\n",
      "1. FUN(X[[i]], ...)\n",
      "2. tryCatch(withCallingHandlers({\n",
      " .     if (!mime %in% names(repr::mime2repr)) \n",
      " .         stop(\"No repr_* for mimetype \", mime, \" in repr::mime2repr\")\n",
      " .     rpr <- repr::mime2repr[[mime]](obj)\n",
      " .     if (is.null(rpr)) \n",
      " .         return(NULL)\n",
      " .     prepare_content(is.raw(rpr), rpr)\n",
      " . }, error = error_handler), error = outer_handler)\n",
      "3. tryCatchList(expr, classes, parentenv, handlers)\n",
      "4. tryCatchOne(expr, names, parentenv, handlers[[1L]])\n",
      "5. doTryCatch(return(expr), name, parentenv, handler)\n",
      "6. withCallingHandlers({\n",
      " .     if (!mime %in% names(repr::mime2repr)) \n",
      " .         stop(\"No repr_* for mimetype \", mime, \" in repr::mime2repr\")\n",
      " .     rpr <- repr::mime2repr[[mime]](obj)\n",
      " .     if (is.null(rpr)) \n",
      " .         return(NULL)\n",
      " .     prepare_content(is.raw(rpr), rpr)\n",
      " . }, error = error_handler)\n",
      "7. repr::mime2repr[[mime]](obj)\n",
      "8. repr_text.default(obj)\n",
      "9. paste(capture.output(print(obj)), collapse = \"\\n\")\n",
      "10. capture.output(print(obj))\n",
      "11. evalVis(expr)\n",
      "12. withVisible(eval(expr, pf))\n",
      "13. eval(expr, pf)\n",
      "14. eval(expr, pf)\n",
      "15. print(obj)\n",
      "16. print.TermDocumentMatrix(obj)\n",
      "17. writeLines(sprintf(\"Maximal term length: %s\", max(nchar(Terms(x), \n",
      "  .     type = \"chars\"), 0)))\n",
      "18. sprintf(\"Maximal term length: %s\", max(nchar(Terms(x), type = \"chars\"), \n",
      "  .     0))\n"
     ]
    }
   ],
   "source": [
    "##Nube todo el tweeet\n",
    "\n",
    "myCorpus <- Corpus(VectorSource(tweets$full_text))\n",
    "myCorpus <- tm_map(myCorpus, content_transformer(tolower))\n",
    "myCorpus <- tm_map(myCorpus, removePunctuation) \n",
    "myCorpus <- tm_map(myCorpus, removeNumbers)\n",
    "myCorpus <- tm_map(myCorpus, removeWords, stopwords('spanish'))\n",
    "\n",
    "myCorpus <- tm_map(myCorpus, function(x) iconv(enc2utf8(x), sub = \"byte\"))\n",
    "\n",
    "removeURL <- function(x) gsub(\"http[[:alnum:]]*\", \"\", x)\n",
    "myCorpus <- tm_map(myCorpus, content_transformer(removeURL))\n",
    "\n",
    "tdm <- TermDocumentMatrix(myCorpus, \n",
    "                          control = list(wordLengths = c(1, 20)))\n",
    "                   \n",
    "tdm"
   ]
  },
  {
   "cell_type": "markdown",
   "metadata": {},
   "source": [
    "La matriz de términos del documento contiene la frecuencia con la que aparece cada palabra en el texto, dada la extensión del dataset se convierte en una matriz de gran extensión. R contiene una función que permite eliminar los términos con baja frecuencia o muy  \"dispersos\" (removeSparseTerms()), definiendo un umbral de la frecuencia relativa, por encima del cual el término se eliminará. \n",
    "Por ejemplo, si establece sparse = 0.99 como el argumento para removeSparseTerms(), se eliminarán solo los términos que sean más dispersos que 0.99, probablemente todos los términos quedarán retenidos.\n",
    "En la matriz de término del conjunto de tweets, se verifica una dispersión muy alta, indicando la presencia de muchas palabras con muy poca frecuencia que no agregan valor al análisis que se está realizando y por lo tanto pueden ser excluídas. Se fija un sparse de 0.98."
   ]
  },
  {
   "cell_type": "code",
   "execution_count": 8,
   "metadata": {},
   "outputs": [
    {
     "data": {
      "image/png": "[encoded data removed]",
      "text/plain": [
       "plot without title"
      ]
     },
     "metadata": {},
     "output_type": "display_data"
    }
   ],
   "source": [
    "tdm <- removeSparseTerms(tdm, sparse = 0.98)\n",
    "\n",
    "#freq.terms <- findFreqTerms(tdm, lowfreq=50)\n",
    "\n",
    "m <- as.matrix(tdm)\n",
    "m <- as.data.frame(m)\n",
    "m <- sort(rowSums(m), decreasing=TRUE)\n",
    "m <- data.frame(word=names(m), freq=m)\n",
    "\n",
    "#elimino caracteres invalidos\n",
    "\n",
    "m <- m %>% \n",
    "  filter(xfun::is_ascii(word)== T)\n",
    "\n",
    "pal <- brewer.pal(8, \"BuPu\")\n",
    "pal <- pal[-(1:4)]\n",
    "\n",
    "wordcloud(words = m$word,\n",
    "          freq = m$freq,\n",
    "          scale = c(3,0.6),\n",
    "          max.words = 60,\n",
    "          colors = pal)"
   ]
  },
  {
   "cell_type": "markdown",
   "metadata": {},
   "source": [
    "Por último se guarda la base reducida con las variabes que se utilizaron en el análisis."
   ]
  },
  {
   "cell_type": "code",
   "execution_count": 25,
   "metadata": {},
   "outputs": [],
   "source": [
    "base <- tweets[, c(\"id\", \"fecha\", \"full_text\", \"user_name\", \"user_id\",\n",
    "                   \"base\", \"posicion\", \"posicion_1\")]\n",
    "\n",
    "save(base, file = paste(ruta, \"base_tweets_final.Rda\", sep=\"\"))"
   ]
  }
 ],
 "metadata": {
  "kernelspec": {
   "display_name": "R",
   "language": "R",
   "name": "ir"
  },
  "language_info": {
   "codemirror_mode": "r",
   "file_extension": ".r",
   "mimetype": "text/x-r-source",
   "name": "R",
   "pygments_lexer": "r",
   "version": "3.6.0"
  }
 },
 "nbformat": 4,
 "nbformat_minor": 2
}
